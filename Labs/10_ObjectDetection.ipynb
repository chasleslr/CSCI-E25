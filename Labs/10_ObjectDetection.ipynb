{
 "cells": [
  {
   "cell_type": "markdown",
   "id": "ccc2e792",
   "metadata": {
    "pycharm": {
     "name": "#%% md\n"
    }
   },
   "source": [
    "# CSCI E-25      \n",
    "## Object Detection\n",
    "### Steve Elston\n",
    "\n",
    "## Introduction  \n",
    "\n",
    "In this assignment you will respond with short answers to a few questions about object detection algorithms. These exercises are conceptual and require no coding.  "
   ]
  },
  {
   "cell_type": "markdown",
   "id": "9814ec76",
   "metadata": {
    "pycharm": {
     "name": "#%% md\n"
    }
   },
   "source": [
    "> **Exercise 10-1:** Object detection is in the class of **multi-task** AI algorithms. Provide a short answer to the following questions:  \n",
    "> 1. What are the two tasks required for object detection and what is their purpose? \n",
    "> 2. How are the single shot algorithms, such as YOLO and SSD, fundamentally different from previous generations of object detection algorithms such as R-CNN?"
   ]
  },
  {
   "cell_type": "markdown",
   "id": "f3b977f7",
   "metadata": {
    "pycharm": {
     "name": "#%% md\n"
    }
   },
   "source": [
    "> **Answers:** \n",
    "> 1. The two tasks are to identify bounding box and then classify objects within these bounding boxes.\n",
    "> 2. They combine the two tasks in a single step using a fully convolutional neural network, instead of separating the problem in two steps (i.e. identify bounding boxes, and then classify objects)."
   ]
  },
  {
   "cell_type": "markdown",
   "id": "a3fb1666",
   "metadata": {
    "pycharm": {
     "name": "#%% md\n"
    }
   },
   "source": [
    "> **Exercise 10-2:** In one or two sentences answer the following:   \n",
    "> 1. Explain why algorithms like SSD and the various versions of YOLO considered fully convolutional neural networks. \n",
    "> 2. What are the output values of the the fully convolutional neural networks, for both location and confidence. "
   ]
  },
  {
   "cell_type": "markdown",
   "id": "49fc173c",
   "metadata": {
    "pycharm": {
     "name": "#%% md\n"
    }
   },
   "source": [
    "> **Answers:** \n",
    "> 1. They are considered fully convolutional neural networks because they solve both the regression (i.e. finding bounding boxes) and classification (i.e. which class of object is in the box) at the same time using a single CNN. They also have no fully connected layers.\n",
    "> 2. The outputs include the X and Y coordinates for the center of the bounding box, the Height and Length of the box, the probability that an object is contained within the box, and a softmax prediction for all classes of objects."
   ]
  },
  {
   "cell_type": "markdown",
   "id": "1b08a50a",
   "metadata": {
    "pycharm": {
     "name": "#%% md\n"
    }
   },
   "source": [
    "> **Exercise 10-3:** One of several challenging problems in object detection is the differing scale of objects that must be detected and localized. The YOLO and SSD models take very different approaches to this problem. In a few sentences, describe the differences in these approaches.   "
   ]
  },
  {
   "cell_type": "markdown",
   "id": "cfb3c1d7",
   "metadata": {
    "pycharm": {
     "name": "#%% md\n"
    }
   },
   "source": [
    "> **Answer:** SSD uses grid to divide the image, and uses multiple grids to accommodate multiple scales. YOLO uses k-means clustering with distance metric."
   ]
  },
  {
   "cell_type": "markdown",
   "id": "d11cae7f",
   "metadata": {
    "pycharm": {
     "name": "#%% md\n"
    }
   },
   "source": [
    "> **Exercise 10-4:** Multi-task loss functions have an inherent trade-off between tasks. For the SSD algorithm this trade-off is between object confidence loss and location accuracy loss, with a hyperparameter designated $\\alpha$. Cross validation experiments by [Lui et. al., 2016](https://arxiv.org/abs/1512.02325) found the optimal value of mAP was achieved for $\\alpha = 1.0$. In one or two sentences, explain what does this result tell you about the relative importance of object confidence vs. bounding box accuracy.   "
   ]
  },
  {
   "cell_type": "markdown",
   "id": "9112299a",
   "metadata": {
    "pycharm": {
     "name": "#%% md\n"
    }
   },
   "source": [
    "> **Answer:** As alpha increases, we favour the location accuracy loss over the object confidence loss. This seems to indicate that both losses should be equally weighted."
   ]
  },
  {
   "cell_type": "markdown",
   "id": "10eaf0d0",
   "metadata": {
    "pycharm": {
     "name": "#%% md\n"
    }
   },
   "source": [
    "> **Exercise 10-5:** In one or two sentences answer the following questions:   \n",
    "> 1. Explain why intersection over union (IoU) is a good metric for bounding box accuracy.  \n",
    "> 2. How can you interpret an IoU score. \n",
    "> 3. What are the limits of possible values and what do they mean? "
   ]
  },
  {
   "cell_type": "markdown",
   "id": "c48d2116",
   "metadata": {
    "pycharm": {
     "name": "#%% md\n"
    }
   },
   "source": [
    "> **Answers:** \n",
    "> 1. It is a good metric because it is maximized when the ground truth bounding box is exactly the same as the predicted bounding box.\n",
    "> 2. It can be interpreted as the confidence. In reality, it measures the percentage of the bounding boxes that intersect, compared to their union.\n",
    "> 3. The bounding boxes range from 0.0 to 1.0, where 0.0 means that the two bounding boxes do not intersect/overlap at all, and where 1.0 means they perfectly intersect/overlap."
   ]
  },
  {
   "cell_type": "markdown",
   "id": "576288b5",
   "metadata": {
    "pycharm": {
     "name": "#%% md\n"
    }
   },
   "source": [
    "> **Exercise 10-6:** In one or two sentences, answer the following questions about management of negative cases.  \n",
    "> 1. Why is non-maximal suppression of bounding boxes required for object detection? \n",
    "> 2. How can non-maximal suppression improve class imbalance when training object detection algorithms? "
   ]
  },
  {
   "cell_type": "markdown",
   "id": "226a422f",
   "metadata": {
    "pycharm": {
     "name": "#%% md\n"
    }
   },
   "source": [
    "> **Answers:**\n",
    "> 1. There is otherwise a large class imbalance between true negatives and true positives which can lead to poor model training.\n",
    "> 2. We limit the number of true negatives to true positives to control the class imbalance. For example, SSD enforces a 3:1 ratio of negative to positive cases."
   ]
  },
  {
   "cell_type": "markdown",
   "id": "f59f7f86",
   "metadata": {
    "pycharm": {
     "name": "#%% md\n"
    }
   },
   "source": [
    "#### Copyright 2022, Stephen F Elston. All rights reserved. "
   ]
  }
 ],
 "metadata": {
  "kernelspec": {
   "display_name": "Python 3 (ipykernel)",
   "language": "python",
   "name": "python3"
  },
  "language_info": {
   "codemirror_mode": {
    "name": "ipython",
    "version": 3
   },
   "file_extension": ".py",
   "mimetype": "text/x-python",
   "name": "python",
   "nbconvert_exporter": "python",
   "pygments_lexer": "ipython3",
   "version": "3.7.3"
  }
 },
 "nbformat": 4,
 "nbformat_minor": 5
}